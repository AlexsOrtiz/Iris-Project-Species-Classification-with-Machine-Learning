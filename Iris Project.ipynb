{
 "cells": [
  {
   "cell_type": "code",
   "execution_count": 14,
   "id": "cbb00711-4155-460a-bc8d-b79c22229360",
   "metadata": {},
   "outputs": [],
   "source": [
    "# Data manipulation and visualization\n",
    "import pandas as pd\n",
    "import matplotlib.pyplot as plt\n",
    "import plotly.express as px\n",
    "%matplotlib inline\n",
    "\n",
    "# Scikit-learn model selection and preprocessing\n",
    "from sklearn.model_selection import train_test_split, GridSearchCV\n",
    "from sklearn.preprocessing import LabelEncoder, StandardScaler\n",
    "from sklearn.pipeline import Pipeline\n",
    "\n",
    "# Scikit-learn models\n",
    "from sklearn.linear_model import LogisticRegression\n",
    "from sklearn.neighbors import KNeighborsClassifier\n",
    "\n",
    "# Scikit-learn metrics\n",
    "from sklearn.metrics import (\n",
    "    accuracy_score,\n",
    "    classification_report,\n",
    "    confusion_matrix,\n",
    ")\n"
   ]
  },
  {
   "cell_type": "code",
   "execution_count": 16,
   "id": "87e50781-f065-4dfa-91f3-2dafa513b232",
   "metadata": {},
   "outputs": [
    {
     "name": "stdout",
     "output_type": "stream",
     "text": [
      "✅ Dataset loaded successfully from URL\n",
      "\n",
      "🔍 First 5 rows (sanity check):\n"
     ]
    },
    {
     "data": {
      "text/html": [
       "<div>\n",
       "<style scoped>\n",
       "    .dataframe tbody tr th:only-of-type {\n",
       "        vertical-align: middle;\n",
       "    }\n",
       "\n",
       "    .dataframe tbody tr th {\n",
       "        vertical-align: top;\n",
       "    }\n",
       "\n",
       "    .dataframe thead th {\n",
       "        text-align: right;\n",
       "    }\n",
       "</style>\n",
       "<table border=\"1\" class=\"dataframe\">\n",
       "  <thead>\n",
       "    <tr style=\"text-align: right;\">\n",
       "      <th></th>\n",
       "      <th>sepal_length</th>\n",
       "      <th>sepal_width</th>\n",
       "      <th>petal_length</th>\n",
       "      <th>petal_width</th>\n",
       "      <th>species</th>\n",
       "    </tr>\n",
       "  </thead>\n",
       "  <tbody>\n",
       "    <tr>\n",
       "      <th>0</th>\n",
       "      <td>5.1</td>\n",
       "      <td>3.5</td>\n",
       "      <td>1.4</td>\n",
       "      <td>0.2</td>\n",
       "      <td>setosa</td>\n",
       "    </tr>\n",
       "    <tr>\n",
       "      <th>1</th>\n",
       "      <td>4.9</td>\n",
       "      <td>3.0</td>\n",
       "      <td>1.4</td>\n",
       "      <td>0.2</td>\n",
       "      <td>setosa</td>\n",
       "    </tr>\n",
       "    <tr>\n",
       "      <th>2</th>\n",
       "      <td>4.7</td>\n",
       "      <td>3.2</td>\n",
       "      <td>1.3</td>\n",
       "      <td>0.2</td>\n",
       "      <td>setosa</td>\n",
       "    </tr>\n",
       "    <tr>\n",
       "      <th>3</th>\n",
       "      <td>4.6</td>\n",
       "      <td>3.1</td>\n",
       "      <td>1.5</td>\n",
       "      <td>0.2</td>\n",
       "      <td>setosa</td>\n",
       "    </tr>\n",
       "    <tr>\n",
       "      <th>4</th>\n",
       "      <td>5.0</td>\n",
       "      <td>3.6</td>\n",
       "      <td>1.4</td>\n",
       "      <td>0.2</td>\n",
       "      <td>setosa</td>\n",
       "    </tr>\n",
       "  </tbody>\n",
       "</table>\n",
       "</div>"
      ],
      "text/plain": [
       "   sepal_length  sepal_width  petal_length  petal_width species\n",
       "0           5.1          3.5           1.4          0.2  setosa\n",
       "1           4.9          3.0           1.4          0.2  setosa\n",
       "2           4.7          3.2           1.3          0.2  setosa\n",
       "3           4.6          3.1           1.5          0.2  setosa\n",
       "4           5.0          3.6           1.4          0.2  setosa"
      ]
     },
     "metadata": {},
     "output_type": "display_data"
    },
    {
     "name": "stdout",
     "output_type": "stream",
     "text": [
      "\n",
      "📝 Dataset structure:\n",
      "<class 'pandas.core.frame.DataFrame'>\n",
      "RangeIndex: 150 entries, 0 to 149\n",
      "Data columns (total 5 columns):\n",
      " #   Column        Non-Null Count  Dtype  \n",
      "---  ------        --------------  -----  \n",
      " 0   sepal_length  150 non-null    float64\n",
      " 1   sepal_width   150 non-null    float64\n",
      " 2   petal_length  150 non-null    float64\n",
      " 3   petal_width   150 non-null    float64\n",
      " 4   species       150 non-null    object \n",
      "dtypes: float64(4), object(1)\n",
      "memory usage: 6.0+ KB\n",
      "\n",
      "📊 Descriptive statistics (check distributions/outliers):\n"
     ]
    },
    {
     "data": {
      "text/html": [
       "<div>\n",
       "<style scoped>\n",
       "    .dataframe tbody tr th:only-of-type {\n",
       "        vertical-align: middle;\n",
       "    }\n",
       "\n",
       "    .dataframe tbody tr th {\n",
       "        vertical-align: top;\n",
       "    }\n",
       "\n",
       "    .dataframe thead th {\n",
       "        text-align: right;\n",
       "    }\n",
       "</style>\n",
       "<table border=\"1\" class=\"dataframe\">\n",
       "  <thead>\n",
       "    <tr style=\"text-align: right;\">\n",
       "      <th></th>\n",
       "      <th>count</th>\n",
       "      <th>mean</th>\n",
       "      <th>std</th>\n",
       "      <th>min</th>\n",
       "      <th>25%</th>\n",
       "      <th>50%</th>\n",
       "      <th>75%</th>\n",
       "      <th>max</th>\n",
       "    </tr>\n",
       "  </thead>\n",
       "  <tbody>\n",
       "    <tr>\n",
       "      <th>sepal_length</th>\n",
       "      <td>150.0</td>\n",
       "      <td>5.843333</td>\n",
       "      <td>0.828066</td>\n",
       "      <td>4.3</td>\n",
       "      <td>5.1</td>\n",
       "      <td>5.80</td>\n",
       "      <td>6.4</td>\n",
       "      <td>7.9</td>\n",
       "    </tr>\n",
       "    <tr>\n",
       "      <th>sepal_width</th>\n",
       "      <td>150.0</td>\n",
       "      <td>3.054000</td>\n",
       "      <td>0.433594</td>\n",
       "      <td>2.0</td>\n",
       "      <td>2.8</td>\n",
       "      <td>3.00</td>\n",
       "      <td>3.3</td>\n",
       "      <td>4.4</td>\n",
       "    </tr>\n",
       "    <tr>\n",
       "      <th>petal_length</th>\n",
       "      <td>150.0</td>\n",
       "      <td>3.758667</td>\n",
       "      <td>1.764420</td>\n",
       "      <td>1.0</td>\n",
       "      <td>1.6</td>\n",
       "      <td>4.35</td>\n",
       "      <td>5.1</td>\n",
       "      <td>6.9</td>\n",
       "    </tr>\n",
       "    <tr>\n",
       "      <th>petal_width</th>\n",
       "      <td>150.0</td>\n",
       "      <td>1.198667</td>\n",
       "      <td>0.763161</td>\n",
       "      <td>0.1</td>\n",
       "      <td>0.3</td>\n",
       "      <td>1.30</td>\n",
       "      <td>1.8</td>\n",
       "      <td>2.5</td>\n",
       "    </tr>\n",
       "  </tbody>\n",
       "</table>\n",
       "</div>"
      ],
      "text/plain": [
       "              count      mean       std  min  25%   50%  75%  max\n",
       "sepal_length  150.0  5.843333  0.828066  4.3  5.1  5.80  6.4  7.9\n",
       "sepal_width   150.0  3.054000  0.433594  2.0  2.8  3.00  3.3  4.4\n",
       "petal_length  150.0  3.758667  1.764420  1.0  1.6  4.35  5.1  6.9\n",
       "petal_width   150.0  1.198667  0.763161  0.1  0.3  1.30  1.8  2.5"
      ]
     },
     "metadata": {},
     "output_type": "display_data"
    },
    {
     "name": "stdout",
     "output_type": "stream",
     "text": [
      "\n",
      "🧹 Missing values assessment:\n",
      "sepal_length    0\n",
      "sepal_width     0\n",
      "petal_length    0\n",
      "petal_width     0\n",
      "species         0\n",
      "dtype: int64\n",
      "\n",
      "📈 Distribution analysis:\n"
     ]
    },
    {
     "data": {
      "image/png": "[encoded data removed]",
      "text/plain": [
       "<Figure size 600x400 with 1 Axes>"
      ]
     },
     "metadata": {},
     "output_type": "display_data"
    },
    {
     "data": {
      "image/png": "[encoded data removed]",
      "text/plain": [
       "<Figure size 400x600 with 1 Axes>"
      ]
     },
     "metadata": {},
     "output_type": "display_data"
    },
    {
     "data": {
      "image/png": "[encoded data removed]",
      "text/plain": [
       "<Figure size 600x400 with 1 Axes>"
      ]
     },
     "metadata": {},
     "output_type": "display_data"
    },
    {
     "data": {
      "image/png": "[encoded data removed]",
      "text/plain": [
       "<Figure size 400x600 with 1 Axes>"
      ]
     },
     "metadata": {},
     "output_type": "display_data"
    },
    {
     "data": {
      "image/png": "[encoded data removed]",
      "text/plain": [
       "<Figure size 600x400 with 1 Axes>"
      ]
     },
     "metadata": {},
     "output_type": "display_data"
    },
    {
     "data": {
      "image/png": "[encoded data removed]",
      "text/plain": [
       "<Figure size 400x600 with 1 Axes>"
      ]
     },
     "metadata": {},
     "output_type": "display_data"
    },
    {
     "data": {
      "image/png": "[encoded data removed]",
      "text/plain": [
       "<Figure size 600x400 with 1 Axes>"
      ]
     },
     "metadata": {},
     "output_type": "display_data"
    },
    {
     "data": {
      "image/png": "[encoded data removed]",
      "text/plain": [
       "<Figure size 400x600 with 1 Axes>"
      ]
     },
     "metadata": {},
     "output_type": "display_data"
    },
    {
     "name": "stdout",
     "output_type": "stream",
     "text": [
      "\n",
      "🌡️ Feature relationships:\n"
     ]
    },
    {
     "ename": "NameError",
     "evalue": "name 'sns' is not defined",
     "output_type": "error",
     "traceback": [
      "\u001b[1;31m---------------------------------------------------------------------------\u001b[0m",
      "\u001b[1;31mNameError\u001b[0m                                 Traceback (most recent call last)",
      "Cell \u001b[1;32mIn[16], line 73\u001b[0m\n\u001b[0;32m     70\u001b[0m corr \u001b[38;5;241m=\u001b[39m df[numeric_cols]\u001b[38;5;241m.\u001b[39mcorr()\n\u001b[0;32m     72\u001b[0m plt\u001b[38;5;241m.\u001b[39mfigure(figsize\u001b[38;5;241m=\u001b[39m(\u001b[38;5;241m7\u001b[39m, \u001b[38;5;241m6\u001b[39m))\n\u001b[1;32m---> 73\u001b[0m sns\u001b[38;5;241m.\u001b[39mheatmap(\n\u001b[0;32m     74\u001b[0m     corr, \n\u001b[0;32m     75\u001b[0m     annot\u001b[38;5;241m=\u001b[39m\u001b[38;5;28;01mTrue\u001b[39;00m, \n\u001b[0;32m     76\u001b[0m     fmt\u001b[38;5;241m=\u001b[39m\u001b[38;5;124m\"\u001b[39m\u001b[38;5;124m.2f\u001b[39m\u001b[38;5;124m\"\u001b[39m, \n\u001b[0;32m     77\u001b[0m     cmap\u001b[38;5;241m=\u001b[39m\u001b[38;5;124m\"\u001b[39m\u001b[38;5;124mcoolwarm\u001b[39m\u001b[38;5;124m\"\u001b[39m, \n\u001b[0;32m     78\u001b[0m     center\u001b[38;5;241m=\u001b[39m\u001b[38;5;241m0\u001b[39m,\n\u001b[0;32m     79\u001b[0m     square\u001b[38;5;241m=\u001b[39m\u001b[38;5;28;01mTrue\u001b[39;00m,\n\u001b[0;32m     80\u001b[0m     linewidths\u001b[38;5;241m=\u001b[39m\u001b[38;5;241m0.5\u001b[39m,\n\u001b[0;32m     81\u001b[0m     cbar_kws\u001b[38;5;241m=\u001b[39m{\u001b[38;5;124m\"\u001b[39m\u001b[38;5;124mshrink\u001b[39m\u001b[38;5;124m\"\u001b[39m: \u001b[38;5;241m0.8\u001b[39m}\n\u001b[0;32m     82\u001b[0m )\n\u001b[0;32m     83\u001b[0m plt\u001b[38;5;241m.\u001b[39mtitle(\u001b[38;5;124m\"\u001b[39m\u001b[38;5;124mFeature Correlation Matrix\u001b[39m\u001b[38;5;130;01m\\n\u001b[39;00m\u001b[38;5;124m\"\u001b[39m, fontsize\u001b[38;5;241m=\u001b[39m\u001b[38;5;241m14\u001b[39m)\n\u001b[0;32m     84\u001b[0m plt\u001b[38;5;241m.\u001b[39mxticks(rotation\u001b[38;5;241m=\u001b[39m\u001b[38;5;241m45\u001b[39m, ha\u001b[38;5;241m=\u001b[39m\u001b[38;5;124m\"\u001b[39m\u001b[38;5;124mright\u001b[39m\u001b[38;5;124m\"\u001b[39m)\n",
      "\u001b[1;31mNameError\u001b[0m: name 'sns' is not defined"
     ]
    },
    {
     "data": {
      "text/plain": [
       "<Figure size 700x600 with 0 Axes>"
      ]
     },
     "metadata": {},
     "output_type": "display_data"
    }
   ],
   "source": [
    "\n",
    "# ------------------------------------------------------------------------------\n",
    "# Data Loading with Robust Fallback\n",
    "# ------------------------------------------------------------------------------\n",
    "# Primary source: Public URL (avoids sklearn dependency unless needed)\n",
    "# Fallback: sklearn dataset (in case URL becomes unavailable)\n",
    "# Rationale: Production code should never fail due to external dependencies\n",
    "url = \"https://gist.githubusercontent.com/curran/a08a1080b88344b0c8a7/raw/0e7a9b0a5d22642a06d3d5b9bcbad9890c8ee534/iris.csv\"\n",
    "try:\n",
    "    df = pd.read_csv(url)\n",
    "    print(\"✅ Dataset loaded successfully from URL\")\n",
    "except Exception as e:\n",
    "    print(f\"⚠️ URL load failed ({str(e)}). Falling back to sklearn dataset...\")\n",
    "    from sklearn.datasets import load_iris\n",
    "    data = load_iris(as_frame=True)\n",
    "    df = data.frame.copy()\n",
    "    # Convert numeric targets to categorical species names\n",
    "    df[\"species\"] = pd.Categorical.from_codes(data.target, data.target_names)\n",
    "    print(\"✅ Fallback dataset loaded from sklearn\")\n",
    "\n",
    "# ------------------------------------------------------------------------------\n",
    "# Initial Data Inspection\n",
    "# ------------------------------------------------------------------------------\n",
    "print(\"\\n🔍 First 5 rows (sanity check):\")\n",
    "display(df.head())  # display() shows richer output than print() in notebooks\n",
    "\n",
    "print(\"\\n📝 Dataset structure:\")\n",
    "df.info()  # Critical for understanding dtypes and memory usage\n",
    "\n",
    "print(\"\\n📊 Descriptive statistics (check distributions/outliers):\")\n",
    "display(df.describe().T)  # Transposed for better readability\n",
    "\n",
    "print(\"\\n🧹 Missing values assessment:\")\n",
    "print(df.isnull().sum())  # Essential for data quality check\n",
    "\n",
    "# ------------------------------------------------------------------------------\n",
    "# Univariate Analysis\n",
    "# ------------------------------------------------------------------------------\n",
    "numeric_cols = df.select_dtypes(include=[\"float64\", \"int64\"]).columns.tolist()\n",
    "\n",
    "print(\"\\n📈 Distribution analysis:\")\n",
    "for col in numeric_cols:\n",
    "    # Histograms show empirical distribution\n",
    "    plt.figure(figsize=(6, 4))\n",
    "    plt.hist(df[col], bins=10, edgecolor=\"black\", alpha=0.7)\n",
    "    plt.title(f\"Distribution of {col}\", pad=20)\n",
    "    plt.xlabel(col)\n",
    "    plt.ylabel(\"Frequency\")\n",
    "    plt.grid(alpha=0.3)\n",
    "    plt.show()\n",
    "    \n",
    "    # Boxplots reveal outliers and quartiles\n",
    "    plt.figure(figsize=(4, 6))\n",
    "    plt.boxplot(\n",
    "        df[col], \n",
    "        vert=True, \n",
    "        patch_artist=True,\n",
    "        boxprops=dict(facecolor=\"lightblue\", color=\"black\", alpha=0.7),\n",
    "        medianprops=dict(color=\"red\", linewidth=2),\n",
    "        flierprops=dict(marker=\"o\", markersize=5)\n",
    "    )\n",
    "    plt.title(f\"Spread of {col}\", pad=20)\n",
    "    plt.ylabel(col)\n",
    "    plt.grid(alpha=0.3, axis=\"y\")\n",
    "    plt.show()\n",
    "\n",
    "# ------------------------------------------------------------------------------\n",
    "# Multivariate Analysis\n",
    "# ------------------------------------------------------------------------------\n",
    "print(\"\\n🌡️ Feature relationships:\")\n",
    "corr = df[numeric_cols].corr()\n",
    "\n",
    "plt.figure(figsize=(7, 6))\n",
    "sns.heatmap(\n",
    "    corr, \n",
    "    annot=True, \n",
    "    fmt=\".2f\", \n",
    "    cmap=\"coolwarm\", \n",
    "    center=0,\n",
    "    square=True,\n",
    "    linewidths=0.5,\n",
    "    cbar_kws={\"shrink\": 0.8}\n",
    ")\n",
    "plt.title(\"Feature Correlation Matrix\\n\", fontsize=14)\n",
    "plt.xticks(rotation=45, ha=\"right\")\n",
    "plt.tight_layout()\n",
    "plt.show()\n",
    "\n"
   ]
  },
  {
   "cell_type": "markdown",
   "id": "08d7846a-d1f2-41c9-b825-33c74bd62686",
   "metadata": {},
   "source": [
    "# Setosa is Almost Completely Isolated  \r\n",
    "\r\n",
    "All the blue (“setosa”) points sit at very low petal-length values (**~1–2 cm**), regardless of sepal length or width. In other words:  \r\n",
    "- **Setosa flowers have consistently small petals**, forming a tight cluster at the bottom of the *petal length* axis.  \r\n",
    "\r\n",
    "---\r\n",
    "\r\n",
    "# Versicolor and Virginica Occupy Higher Petal-Length Regions  \r\n",
    "\r\n",
    "- **Versicolor (orange)**: Mid-range petal length (**~3–5 cm**).  \r\n",
    "- **Virginica (green)**: Larger petal lengths (**~4.5–6.5 cm**).  \r\n",
    "\r\n",
    "In 3D:  \r\n",
    "- Overlap in *sepal-length/sepal-width* plane.  \r\n",
    "- Cleaner separation as *petal length* increases.  \r\n",
    "\r\n",
    "---\r\n",
    "\r\n",
    "# Petal Length is the Dominant Separator  \r\n",
    "\r\n",
    "While sepal dimensions vary:  \r\n",
    "- **Setosa** clusters at the bottom (small petals).  \r\n",
    "- **Versicolor** sits in the middle.  \r\n",
    "- **Virginica** extends to the top (largest petals).  \r\n",
    "\r\n",
    "**Key insight**:  \r\n",
    "- Petal length alone can reliably predict species (especially for *Setosa*).  \r\n",
    "- Sepal measurements are less discriminative.  \r\n",
    "\r\n",
    "---\r\n",
    "\r\n",
    "# Conclusion  \r\n",
    "\r\n",
    "- ✅ **Setosa**: Linearly separable (very small petals).  \r\n",
    "- 🔄 **Versicolor & Virginica**: Overlap in sepals but separate well by petal length.  \r\n",
    "- 🏆 **Best predictor**: Petal length (sepals add minor resolution between *Versicolor/Virginica*).  lor and Virginica.  "
   ]
  },
  {
   "cell_type": "code",
   "execution_count": 20,
   "id": "416c23be-16e4-4caa-b648-eb71eed70ed9",
   "metadata": {},
   "outputs": [
    {
     "name": "stdout",
     "output_type": "stream",
     "text": [
      "\n",
      "🛠️ Building 3D visualization... (this may take a moment for large datasets)\n",
      "✅ Base plot configured | ℹ️ Marker size=5, opacity=0.8 for cluster visibility\n",
      "🎨 Styling applied | ✨ Ready for interactive exploration\n",
      "\n",
      "🖱️ Interactive Controls:\n",
      "- Rotate: Click + drag\n",
      "- Zoom: Scroll wheel\n",
      "- Reset view: Double click\n",
      "- Hover: Point info (useful for outlier inspection)\n"
     ]
    },
    {
     "data": {
      "application/vnd.plotly.v1+json": {
       "config": {
        "plotlyServerURL": "https://plot.ly"
       },
       "data": [
        {
         "hovertemplate": "Species=setosa<br>Sepal Length (cm)=%{x}<br>Sepal Width (cm)=%{y}<br>Petal Length (cm)=%{z}<extra></extra>",
         "legendgroup": "setosa",
         "marker": {
          "color": "#636efa",
          "opacity": 0.8,
          "size": 5,
          "symbol": "circle"
         },
         "mode": "markers",
         "name": "setosa",
         "scene": "scene",
         "showlegend": true,
         "type": "scatter3d",
         "x": [
          5.1,
          4.9,
          4.7,
          4.6,
          5,
          5.4,
          4.6,
          5,
          4.4,
          4.9,
          5.4,
          4.8,
          4.8,
          4.3,
          5.8,
          5.7,
          5.4,
          5.1,
          5.7,
          5.1,
          5.4,
          5.1,
          4.6,
          5.1,
          4.8,
          5,
          5,
          5.2,
          5.2,
          4.7,
          4.8,
          5.4,
          5.2,
          5.5,
          4.9,
          5,
          5.5,
          4.9,
          4.4,
          5.1,
          5,
          4.5,
          4.4,
          5,
          5.1,
          4.8,
          5.1,
          4.6,
          5.3,
          5
         ],
         "y": [
          3.5,
          3,
          3.2,
          3.1,
          3.6,
          3.9,
          3.4,
          3.4,
          2.9,
          3.1,
          3.7,
          3.4,
          3,
          3,
          4,
          4.4,
          3.9,
          3.5,
          3.8,
          3.8,
          3.4,
          3.7,
          3.6,
          3.3,
          3.4,
          3,
          3.4,
          3.5,
          3.4,
          3.2,
          3.1,
          3.4,
          4.1,
          4.2,
          3.1,
          3.2,
          3.5,
          3.1,
          3,
          3.4,
          3.5,
          2.3,
          3.2,
          3.5,
          3.8,
          3,
          3.8,
          3.2,
          3.7,
          3.3
         ],
         "z": [
          1.4,
          1.4,
          1.3,
          1.5,
          1.4,
          1.7,
          1.4,
          1.5,
          1.4,
          1.5,
          1.5,
          1.6,
          1.4,
          1.1,
          1.2,
          1.5,
          1.3,
          1.4,
          1.7,
          1.5,
          1.7,
          1.5,
          1,
          1.7,
          1.9,
          1.6,
          1.6,
          1.5,
          1.4,
          1.6,
          1.6,
          1.5,
          1.5,
          1.4,
          1.5,
          1.2,
          1.3,
          1.5,
          1.3,
          1.5,
          1.3,
          1.3,
          1.3,
          1.6,
          1.9,
          1.4,
          1.6,
          1.4,
          1.5,
          1.4
         ]
        },
        {
         "hovertemplate": "Species=versicolor<br>Sepal Length (cm)=%{x}<br>Sepal Width (cm)=%{y}<br>Petal Length (cm)=%{z}<extra></extra>",
         "legendgroup": "versicolor",
         "marker": {
          "color": "#EF553B",
          "opacity": 0.8,
          "size": 5,
          "symbol": "circle"
         },
         "mode": "markers",
         "name": "versicolor",
         "scene": "scene",
         "showlegend": true,
         "type": "scatter3d",
         "x": [
          7,
          6.4,
          6.9,
          5.5,
          6.5,
          5.7,
          6.3,
          4.9,
          6.6,
          5.2,
          5,
          5.9,
          6,
          6.1,
          5.6,
          6.7,
          5.6,
          5.8,
          6.2,
          5.6,
          5.9,
          6.1,
          6.3,
          6.1,
          6.4,
          6.6,
          6.8,
          6.7,
          6,
          5.7,
          5.5,
          5.5,
          5.8,
          6,
          5.4,
          6,
          6.7,
          6.3,
          5.6,
          5.5,
          5.5,
          6.1,
          5.8,
          5,
          5.6,
          5.7,
          5.7,
          6.2,
          5.1,
          5.7
         ],
         "y": [
          3.2,
          3.2,
          3.1,
          2.3,
          2.8,
          2.8,
          3.3,
          2.4,
          2.9,
          2.7,
          2,
          3,
          2.2,
          2.9,
          2.9,
          3.1,
          3,
          2.7,
          2.2,
          2.5,
          3.2,
          2.8,
          2.5,
          2.8,
          2.9,
          3,
          2.8,
          3,
          2.9,
          2.6,
          2.4,
          2.4,
          2.7,
          2.7,
          3,
          3.4,
          3.1,
          2.3,
          3,
          2.5,
          2.6,
          3,
          2.6,
          2.3,
          2.7,
          3,
          2.9,
          2.9,
          2.5,
          2.8
         ],
         "z": [
          4.7,
          4.5,
          4.9,
          4,
          4.6,
          4.5,
          4.7,
          3.3,
          4.6,
          3.9,
          3.5,
          4.2,
          4,
          4.7,
          3.6,
          4.4,
          4.5,
          4.1,
          4.5,
          3.9,
          4.8,
          4,
          4.9,
          4.7,
          4.3,
          4.4,
          4.8,
          5,
          4.5,
          3.5,
          3.8,
          3.7,
          3.9,
          5.1,
          4.5,
          4.5,
          4.7,
          4.4,
          4.1,
          4,
          4.4,
          4.6,
          4,
          3.3,
          4.2,
          4.2,
          4.2,
          4.3,
          3,
          4.1
         ]
        },
        {
         "hovertemplate": "Species=virginica<br>Sepal Length (cm)=%{x}<br>Sepal Width (cm)=%{y}<br>Petal Length (cm)=%{z}<extra></extra>",
         "legendgroup": "virginica",
         "marker": {
          "color": "#00cc96",
          "opacity": 0.8,
          "size": 5,
          "symbol": "circle"
         },
         "mode": "markers",
         "name": "virginica",
         "scene": "scene",
         "showlegend": true,
         "type": "scatter3d",
         "x": [
          6.3,
          5.8,
          7.1,
          6.3,
          6.5,
          7.6,
          4.9,
          7.3,
          6.7,
          7.2,
          6.5,
          6.4,
          6.8,
          5.7,
          5.8,
          6.4,
          6.5,
          7.7,
          7.7,
          6,
          6.9,
          5.6,
          7.7,
          6.3,
          6.7,
          7.2,
          6.2,
          6.1,
          6.4,
          7.2,
          7.4,
          7.9,
          6.4,
          6.3,
          6.1,
          7.7,
          6.3,
          6.4,
          6,
          6.9,
          6.7,
          6.9,
          5.8,
          6.8,
          6.7,
          6.7,
          6.3,
          6.5,
          6.2,
          5.9
         ],
         "y": [
          3.3,
          2.7,
          3,
          2.9,
          3,
          3,
          2.5,
          2.9,
          2.5,
          3.6,
          3.2,
          2.7,
          3,
          2.5,
          2.8,
          3.2,
          3,
          3.8,
          2.6,
          2.2,
          3.2,
          2.8,
          2.8,
          2.7,
          3.3,
          3.2,
          2.8,
          3,
          2.8,
          3,
          2.8,
          3.8,
          2.8,
          2.8,
          2.6,
          3,
          3.4,
          3.1,
          3,
          3.1,
          3.1,
          3.1,
          2.7,
          3.2,
          3.3,
          3,
          2.5,
          3,
          3.4,
          3
         ],
         "z": [
          6,
          5.1,
          5.9,
          5.6,
          5.8,
          6.6,
          4.5,
          6.3,
          5.8,
          6.1,
          5.1,
          5.3,
          5.5,
          5,
          5.1,
          5.3,
          5.5,
          6.7,
          6.9,
          5,
          5.7,
          4.9,
          6.7,
          4.9,
          5.7,
          6,
          4.8,
          4.9,
          5.6,
          5.8,
          6.1,
          6.4,
          5.6,
          5.1,
          5.6,
          6.1,
          5.6,
          5.5,
          4.8,
          5.4,
          5.6,
          5.1,
          5.1,
          5.9,
          5.7,
          5.2,
          5,
          5.2,
          5.4,
          5.1
         ]
        }
       ],
       "layout": {
        "height": 600,
        "legend": {
         "title": {
          "text": "Species"
         },
         "tracegroupgap": 0,
         "yanchor": "top"
        },
        "scene": {
         "aspectmode": "auto",
         "aspectratio": {
          "x": 0.9709135960857954,
          "y": 0.6472757307238636,
          "z": 1.5912195046961646
         },
         "camera": {
          "center": {
           "x": 0,
           "y": 0,
           "z": 0
          },
          "eye": {
           "x": 0.15084377172204175,
           "y": 1.2213896651423524,
           "z": 0.7008002000062155
          },
          "projection": {
           "type": "perspective"
          },
          "up": {
           "x": 0,
           "y": 0,
           "z": 1
          }
         },
         "domain": {
          "x": [
           0,
           1
          ],
          "y": [
           0,
           1
          ]
         },
         "xaxis": {
          "title": {
           "text": "Sepal Length (cm)"
          },
          "type": "linear"
         },
         "yaxis": {
          "title": {
           "text": "Sepal Width (cm)"
          },
          "type": "linear"
         },
         "zaxis": {
          "title": {
           "text": "Petal Length (cm)"
          },
          "type": "linear"
         }
        },
        "template": {
         "data": {
          "bar": [
           {
            "error_x": {
             "color": "#2a3f5f"
            },
            "error_y": {
             "color": "#2a3f5f"
            },
            "marker": {
             "line": {
              "color": "#E5ECF6",
              "width": 0.5
             },
             "pattern": {
              "fillmode": "overlay",
              "size": 10,
              "solidity": 0.2
             }
            },
            "type": "bar"
           }
          ],
          "barpolar": [
           {
            "marker": {
             "line": {
              "color": "#E5ECF6",
              "width": 0.5
             },
             "pattern": {
              "fillmode": "overlay",
              "size": 10,
              "solidity": 0.2
             }
            },
            "type": "barpolar"
           }
          ],
          "carpet": [
           {
            "aaxis": {
             "endlinecolor": "#2a3f5f",
             "gridcolor": "white",
             "linecolor": "white",
             "minorgridcolor": "white",
             "startlinecolor": "#2a3f5f"
            },
            "baxis": {
             "endlinecolor": "#2a3f5f",
             "gridcolor": "white",
             "linecolor": "white",
             "minorgridcolor": "white",
             "startlinecolor": "#2a3f5f"
            },
            "type": "carpet"
           }
          ],
          "choropleth": [
           {
            "colorbar": {
             "outlinewidth": 0,
             "ticks": ""
            },
            "type": "choropleth"
           }
          ],
          "contour": [
           {
            "colorbar": {
             "outlinewidth": 0,
             "ticks": ""
            },
            "colorscale": [
             [
              0,
              "#0d0887"
             ],
             [
              0.1111111111111111,
              "#46039f"
             ],
             [
              0.2222222222222222,
              "#7201a8"
             ],
             [
              0.3333333333333333,
              "#9c179e"
             ],
             [
              0.4444444444444444,
              "#bd3786"
             ],
             [
              0.5555555555555556,
              "#d8576b"
             ],
             [
              0.6666666666666666,
              "#ed7953"
             ],
             [
              0.7777777777777778,
              "#fb9f3a"
             ],
             [
              0.8888888888888888,
              "#fdca26"
             ],
             [
              1,
              "#f0f921"
             ]
            ],
            "type": "contour"
           }
          ],
          "contourcarpet": [
           {
            "colorbar": {
             "outlinewidth": 0,
             "ticks": ""
            },
            "type": "contourcarpet"
           }
          ],
          "heatmap": [
           {
            "colorbar": {
             "outlinewidth": 0,
             "ticks": ""
            },
            "colorscale": [
             [
              0,
              "#0d0887"
             ],
             [
              0.1111111111111111,
              "#46039f"
             ],
             [
              0.2222222222222222,
              "#7201a8"
             ],
             [
              0.3333333333333333,
              "#9c179e"
             ],
             [
              0.4444444444444444,
              "#bd3786"
             ],
             [
              0.5555555555555556,
              "#d8576b"
             ],
             [
              0.6666666666666666,
              "#ed7953"
             ],
             [
              0.7777777777777778,
              "#fb9f3a"
             ],
             [
              0.8888888888888888,
              "#fdca26"
             ],
             [
              1,
              "#f0f921"
             ]
            ],
            "type": "heatmap"
           }
          ],
          "heatmapgl": [
           {
            "colorbar": {
             "outlinewidth": 0,
             "ticks": ""
            },
            "colorscale": [
             [
              0,
              "#0d0887"
             ],
             [
              0.1111111111111111,
              "#46039f"
             ],
             [
              0.2222222222222222,
              "#7201a8"
             ],
             [
              0.3333333333333333,
              "#9c179e"
             ],
             [
              0.4444444444444444,
              "#bd3786"
             ],
             [
              0.5555555555555556,
              "#d8576b"
             ],
             [
              0.6666666666666666,
              "#ed7953"
             ],
             [
              0.7777777777777778,
              "#fb9f3a"
             ],
             [
              0.8888888888888888,
              "#fdca26"
             ],
             [
              1,
              "#f0f921"
             ]
            ],
            "type": "heatmapgl"
           }
          ],
          "histogram": [
           {
            "marker": {
             "pattern": {
              "fillmode": "overlay",
              "size": 10,
              "solidity": 0.2
             }
            },
            "type": "histogram"
           }
          ],
          "histogram2d": [
           {
            "colorbar": {
             "outlinewidth": 0,
             "ticks": ""
            },
            "colorscale": [
             [
              0,
              "#0d0887"
             ],
             [
              0.1111111111111111,
              "#46039f"
             ],
             [
              0.2222222222222222,
              "#7201a8"
             ],
             [
              0.3333333333333333,
              "#9c179e"
             ],
             [
              0.4444444444444444,
              "#bd3786"
             ],
             [
              0.5555555555555556,
              "#d8576b"
             ],
             [
              0.6666666666666666,
              "#ed7953"
             ],
             [
              0.7777777777777778,
              "#fb9f3a"
             ],
             [
              0.8888888888888888,
              "#fdca26"
             ],
             [
              1,
              "#f0f921"
             ]
            ],
            "type": "histogram2d"
           }
          ],
          "histogram2dcontour": [
           {
            "colorbar": {
             "outlinewidth": 0,
             "ticks": ""
            },
            "colorscale": [
             [
              0,
              "#0d0887"
             ],
             [
              0.1111111111111111,
              "#46039f"
             ],
             [
              0.2222222222222222,
              "#7201a8"
             ],
             [
              0.3333333333333333,
              "#9c179e"
             ],
             [
              0.4444444444444444,
              "#bd3786"
             ],
             [
              0.5555555555555556,
              "#d8576b"
             ],
             [
              0.6666666666666666,
              "#ed7953"
             ],
             [
              0.7777777777777778,
              "#fb9f3a"
             ],
             [
              0.8888888888888888,
              "#fdca26"
             ],
             [
              1,
              "#f0f921"
             ]
            ],
            "type": "histogram2dcontour"
           }
          ],
          "mesh3d": [
           {
            "colorbar": {
             "outlinewidth": 0,
             "ticks": ""
            },
            "type": "mesh3d"
           }
          ],
          "parcoords": [
           {
            "line": {
             "colorbar": {
              "outlinewidth": 0,
              "ticks": ""
             }
            },
            "type": "parcoords"
           }
          ],
          "pie": [
           {
            "automargin": true,
            "type": "pie"
           }
          ],
          "scatter": [
           {
            "fillpattern": {
             "fillmode": "overlay",
             "size": 10,
             "solidity": 0.2
            },
            "type": "scatter"
           }
          ],
          "scatter3d": [
           {
            "line": {
             "colorbar": {
              "outlinewidth": 0,
              "ticks": ""
             }
            },
            "marker": {
             "colorbar": {
              "outlinewidth": 0,
              "ticks": ""
             }
            },
            "type": "scatter3d"
           }
          ],
          "scattercarpet": [
           {
            "marker": {
             "colorbar": {
              "outlinewidth": 0,
              "ticks": ""
             }
            },
            "type": "scattercarpet"
           }
          ],
          "scattergeo": [
           {
            "marker": {
             "colorbar": {
              "outlinewidth": 0,
              "ticks": ""
             }
            },
            "type": "scattergeo"
           }
          ],
          "scattergl": [
           {
            "marker": {
             "colorbar": {
              "outlinewidth": 0,
              "ticks": ""
             }
            },
            "type": "scattergl"
           }
          ],
          "scattermapbox": [
           {
            "marker": {
             "colorbar": {
              "outlinewidth": 0,
              "ticks": ""
             }
            },
            "type": "scattermapbox"
           }
          ],
          "scatterpolar": [
           {
            "marker": {
             "colorbar": {
              "outlinewidth": 0,
              "ticks": ""
             }
            },
            "type": "scatterpolar"
           }
          ],
          "scatterpolargl": [
           {
            "marker": {
             "colorbar": {
              "outlinewidth": 0,
              "ticks": ""
             }
            },
            "type": "scatterpolargl"
           }
          ],
          "scatterternary": [
           {
            "marker": {
             "colorbar": {
              "outlinewidth": 0,
              "ticks": ""
             }
            },
            "type": "scatterternary"
           }
          ],
          "surface": [
           {
            "colorbar": {
             "outlinewidth": 0,
             "ticks": ""
            },
            "colorscale": [
             [
              0,
              "#0d0887"
             ],
             [
              0.1111111111111111,
              "#46039f"
             ],
             [
              0.2222222222222222,
              "#7201a8"
             ],
             [
              0.3333333333333333,
              "#9c179e"
             ],
             [
              0.4444444444444444,
              "#bd3786"
             ],
             [
              0.5555555555555556,
              "#d8576b"
             ],
             [
              0.6666666666666666,
              "#ed7953"
             ],
             [
              0.7777777777777778,
              "#fb9f3a"
             ],
             [
              0.8888888888888888,
              "#fdca26"
             ],
             [
              1,
              "#f0f921"
             ]
            ],
            "type": "surface"
           }
          ],
          "table": [
           {
            "cells": {
             "fill": {
              "color": "#EBF0F8"
             },
             "line": {
              "color": "white"
             }
            },
            "header": {
             "fill": {
              "color": "#C8D4E3"
             },
             "line": {
              "color": "white"
             }
            },
            "type": "table"
           }
          ]
         },
         "layout": {
          "annotationdefaults": {
           "arrowcolor": "#2a3f5f",
           "arrowhead": 0,
           "arrowwidth": 1
          },
          "autotypenumbers": "strict",
          "coloraxis": {
           "colorbar": {
            "outlinewidth": 0,
            "ticks": ""
           }
          },
          "colorscale": {
           "diverging": [
            [
             0,
             "#8e0152"
            ],
            [
             0.1,
             "#c51b7d"
            ],
            [
             0.2,
             "#de77ae"
            ],
            [
             0.3,
             "#f1b6da"
            ],
            [
             0.4,
             "#fde0ef"
            ],
            [
             0.5,
             "#f7f7f7"
            ],
            [
             0.6,
             "#e6f5d0"
            ],
            [
             0.7,
             "#b8e186"
            ],
            [
             0.8,
             "#7fbc41"
            ],
            [
             0.9,
             "#4d9221"
            ],
            [
             1,
             "#276419"
            ]
           ],
           "sequential": [
            [
             0,
             "#0d0887"
            ],
            [
             0.1111111111111111,
             "#46039f"
            ],
            [
             0.2222222222222222,
             "#7201a8"
            ],
            [
             0.3333333333333333,
             "#9c179e"
            ],
            [
             0.4444444444444444,
             "#bd3786"
            ],
            [
             0.5555555555555556,
             "#d8576b"
            ],
            [
             0.6666666666666666,
             "#ed7953"
            ],
            [
             0.7777777777777778,
             "#fb9f3a"
            ],
            [
             0.8888888888888888,
             "#fdca26"
            ],
            [
             1,
             "#f0f921"
            ]
           ],
           "sequentialminus": [
            [
             0,
             "#0d0887"
            ],
            [
             0.1111111111111111,
             "#46039f"
            ],
            [
             0.2222222222222222,
             "#7201a8"
            ],
            [
             0.3333333333333333,
             "#9c179e"
            ],
            [
             0.4444444444444444,
             "#bd3786"
            ],
            [
             0.5555555555555556,
             "#d8576b"
            ],
            [
             0.6666666666666666,
             "#ed7953"
            ],
            [
             0.7777777777777778,
             "#fb9f3a"
            ],
            [
             0.8888888888888888,
             "#fdca26"
            ],
            [
             1,
             "#f0f921"
            ]
           ]
          },
          "colorway": [
           "#636efa",
           "#EF553B",
           "#00cc96",
           "#ab63fa",
           "#FFA15A",
           "#19d3f3",
           "#FF6692",
           "#B6E880",
           "#FF97FF",
           "#FECB52"
          ],
          "font": {
           "color": "#2a3f5f"
          },
          "geo": {
           "bgcolor": "white",
           "lakecolor": "white",
           "landcolor": "#E5ECF6",
           "showlakes": true,
           "showland": true,
           "subunitcolor": "white"
          },
          "hoverlabel": {
           "align": "left"
          },
          "hovermode": "closest",
          "mapbox": {
           "style": "light"
          },
          "paper_bgcolor": "white",
          "plot_bgcolor": "#E5ECF6",
          "polar": {
           "angularaxis": {
            "gridcolor": "white",
            "linecolor": "white",
            "ticks": ""
           },
           "bgcolor": "#E5ECF6",
           "radialaxis": {
            "gridcolor": "white",
            "linecolor": "white",
            "ticks": ""
           }
          },
          "scene": {
           "xaxis": {
            "backgroundcolor": "#E5ECF6",
            "gridcolor": "white",
            "gridwidth": 2,
            "linecolor": "white",
            "showbackground": true,
            "ticks": "",
            "zerolinecolor": "white"
           },
           "yaxis": {
            "backgroundcolor": "#E5ECF6",
            "gridcolor": "white",
            "gridwidth": 2,
            "linecolor": "white",
            "showbackground": true,
            "ticks": "",
            "zerolinecolor": "white"
           },
           "zaxis": {
            "backgroundcolor": "#E5ECF6",
            "gridcolor": "white",
            "gridwidth": 2,
            "linecolor": "white",
            "showbackground": true,
            "ticks": "",
            "zerolinecolor": "white"
           }
          },
          "shapedefaults": {
           "line": {
            "color": "#2a3f5f"
           }
          },
          "ternary": {
           "aaxis": {
            "gridcolor": "white",
            "linecolor": "white",
            "ticks": ""
           },
           "baxis": {
            "gridcolor": "white",
            "linecolor": "white",
            "ticks": ""
           },
           "bgcolor": "#E5ECF6",
           "caxis": {
            "gridcolor": "white",
            "linecolor": "white",
            "ticks": ""
           }
          },
          "title": {
           "x": 0.05
          },
          "xaxis": {
           "automargin": true,
           "gridcolor": "white",
           "linecolor": "white",
           "ticks": "",
           "title": {
            "standoff": 15
           },
           "zerolinecolor": "white",
           "zerolinewidth": 2
          },
          "yaxis": {
           "automargin": true,
           "gridcolor": "white",
           "linecolor": "white",
           "ticks": "",
           "title": {
            "standoff": 15
           },
           "zerolinecolor": "white",
           "zerolinewidth": 2
          }
         }
        },
        "title": {
         "text": "Iris Morphology: 3D Feature Space by Species"
        },
        "width": 800
       }
      },
      "image/png": "[encoded data removed]",
      "text/html": [
       "<div>                            <div id=\"3a8bc058-4c07-409e-8045-e59fcfa50141\" class=\"plotly-graph-div\" style=\"height:600px; width:800px;\"></div>            <script type=\"text/javascript\">                require([\"plotly\"], function(Plotly) {                    window.PLOTLYENV=window.PLOTLYENV || {};                                    if (document.getElementById(\"3a8bc058-4c07-409e-8045-e59fcfa50141\")) {                    Plotly.newPlot(                        \"3a8bc058-4c07-409e-8045-e59fcfa50141\",                        [{\"hovertemplate\":\"Species=setosa\\u003cbr\\u003eSepal Length (cm)=%{x}\\u003cbr\\u003eSepal Width (cm)=%{y}\\u003cbr\\u003ePetal Length (cm)=%{z}\\u003cextra\\u003e\\u003c\\u002fextra\\u003e\",\"legendgroup\":\"setosa\",\"marker\":{\"color\":\"#636efa\",\"symbol\":\"circle\",\"line\":{},\"opacity\":0.8,\"size\":5},\"mode\":\"markers\",\"name\":\"setosa\",\"scene\":\"scene\",\"showlegend\":true,\"x\":[5.1,4.9,4.7,4.6,5.0,5.4,4.6,5.0,4.4,4.9,5.4,4.8,4.8,4.3,5.8,5.7,5.4,5.1,5.7,5.1,5.4,5.1,4.6,5.1,4.8,5.0,5.0,5.2,5.2,4.7,4.8,5.4,5.2,5.5,4.9,5.0,5.5,4.9,4.4,5.1,5.0,4.5,4.4,5.0,5.1,4.8,5.1,4.6,5.3,5.0],\"y\":[3.5,3.0,3.2,3.1,3.6,3.9,3.4,3.4,2.9,3.1,3.7,3.4,3.0,3.0,4.0,4.4,3.9,3.5,3.8,3.8,3.4,3.7,3.6,3.3,3.4,3.0,3.4,3.5,3.4,3.2,3.1,3.4,4.1,4.2,3.1,3.2,3.5,3.1,3.0,3.4,3.5,2.3,3.2,3.5,3.8,3.0,3.8,3.2,3.7,3.3],\"z\":[1.4,1.4,1.3,1.5,1.4,1.7,1.4,1.5,1.4,1.5,1.5,1.6,1.4,1.1,1.2,1.5,1.3,1.4,1.7,1.5,1.7,1.5,1.0,1.7,1.9,1.6,1.6,1.5,1.4,1.6,1.6,1.5,1.5,1.4,1.5,1.2,1.3,1.5,1.3,1.5,1.3,1.3,1.3,1.6,1.9,1.4,1.6,1.4,1.5,1.4],\"type\":\"scatter3d\"},{\"hovertemplate\":\"Species=versicolor\\u003cbr\\u003eSepal Length (cm)=%{x}\\u003cbr\\u003eSepal Width (cm)=%{y}\\u003cbr\\u003ePetal Length (cm)=%{z}\\u003cextra\\u003e\\u003c\\u002fextra\\u003e\",\"legendgroup\":\"versicolor\",\"marker\":{\"color\":\"#EF553B\",\"symbol\":\"circle\",\"line\":{},\"opacity\":0.8,\"size\":5},\"mode\":\"markers\",\"name\":\"versicolor\",\"scene\":\"scene\",\"showlegend\":true,\"x\":[7.0,6.4,6.9,5.5,6.5,5.7,6.3,4.9,6.6,5.2,5.0,5.9,6.0,6.1,5.6,6.7,5.6,5.8,6.2,5.6,5.9,6.1,6.3,6.1,6.4,6.6,6.8,6.7,6.0,5.7,5.5,5.5,5.8,6.0,5.4,6.0,6.7,6.3,5.6,5.5,5.5,6.1,5.8,5.0,5.6,5.7,5.7,6.2,5.1,5.7],\"y\":[3.2,3.2,3.1,2.3,2.8,2.8,3.3,2.4,2.9,2.7,2.0,3.0,2.2,2.9,2.9,3.1,3.0,2.7,2.2,2.5,3.2,2.8,2.5,2.8,2.9,3.0,2.8,3.0,2.9,2.6,2.4,2.4,2.7,2.7,3.0,3.4,3.1,2.3,3.0,2.5,2.6,3.0,2.6,2.3,2.7,3.0,2.9,2.9,2.5,2.8],\"z\":[4.7,4.5,4.9,4.0,4.6,4.5,4.7,3.3,4.6,3.9,3.5,4.2,4.0,4.7,3.6,4.4,4.5,4.1,4.5,3.9,4.8,4.0,4.9,4.7,4.3,4.4,4.8,5.0,4.5,3.5,3.8,3.7,3.9,5.1,4.5,4.5,4.7,4.4,4.1,4.0,4.4,4.6,4.0,3.3,4.2,4.2,4.2,4.3,3.0,4.1],\"type\":\"scatter3d\"},{\"hovertemplate\":\"Species=virginica\\u003cbr\\u003eSepal Length (cm)=%{x}\\u003cbr\\u003eSepal Width (cm)=%{y}\\u003cbr\\u003ePetal Length (cm)=%{z}\\u003cextra\\u003e\\u003c\\u002fextra\\u003e\",\"legendgroup\":\"virginica\",\"marker\":{\"color\":\"#00cc96\",\"symbol\":\"circle\",\"line\":{},\"opacity\":0.8,\"size\":5},\"mode\":\"markers\",\"name\":\"virginica\",\"scene\":\"scene\",\"showlegend\":true,\"x\":[6.3,5.8,7.1,6.3,6.5,7.6,4.9,7.3,6.7,7.2,6.5,6.4,6.8,5.7,5.8,6.4,6.5,7.7,7.7,6.0,6.9,5.6,7.7,6.3,6.7,7.2,6.2,6.1,6.4,7.2,7.4,7.9,6.4,6.3,6.1,7.7,6.3,6.4,6.0,6.9,6.7,6.9,5.8,6.8,6.7,6.7,6.3,6.5,6.2,5.9],\"y\":[3.3,2.7,3.0,2.9,3.0,3.0,2.5,2.9,2.5,3.6,3.2,2.7,3.0,2.5,2.8,3.2,3.0,3.8,2.6,2.2,3.2,2.8,2.8,2.7,3.3,3.2,2.8,3.0,2.8,3.0,2.8,3.8,2.8,2.8,2.6,3.0,3.4,3.1,3.0,3.1,3.1,3.1,2.7,3.2,3.3,3.0,2.5,3.0,3.4,3.0],\"z\":[6.0,5.1,5.9,5.6,5.8,6.6,4.5,6.3,5.8,6.1,5.1,5.3,5.5,5.0,5.1,5.3,5.5,6.7,6.9,5.0,5.7,4.9,6.7,4.9,5.7,6.0,4.8,4.9,5.6,5.8,6.1,6.4,5.6,5.1,5.6,6.1,5.6,5.5,4.8,5.4,5.6,5.1,5.1,5.9,5.7,5.2,5.0,5.2,5.4,5.1],\"type\":\"scatter3d\"}],                        {\"template\":{\"data\":{\"histogram2dcontour\":[{\"type\":\"histogram2dcontour\",\"colorbar\":{\"outlinewidth\":0,\"ticks\":\"\"},\"colorscale\":[[0.0,\"#0d0887\"],[0.1111111111111111,\"#46039f\"],[0.2222222222222222,\"#7201a8\"],[0.3333333333333333,\"#9c179e\"],[0.4444444444444444,\"#bd3786\"],[0.5555555555555556,\"#d8576b\"],[0.6666666666666666,\"#ed7953\"],[0.7777777777777778,\"#fb9f3a\"],[0.8888888888888888,\"#fdca26\"],[1.0,\"#f0f921\"]]}],\"choropleth\":[{\"type\":\"choropleth\",\"colorbar\":{\"outlinewidth\":0,\"ticks\":\"\"}}],\"histogram2d\":[{\"type\":\"histogram2d\",\"colorbar\":{\"outlinewidth\":0,\"ticks\":\"\"},\"colorscale\":[[0.0,\"#0d0887\"],[0.1111111111111111,\"#46039f\"],[0.2222222222222222,\"#7201a8\"],[0.3333333333333333,\"#9c179e\"],[0.4444444444444444,\"#bd3786\"],[0.5555555555555556,\"#d8576b\"],[0.6666666666666666,\"#ed7953\"],[0.7777777777777778,\"#fb9f3a\"],[0.8888888888888888,\"#fdca26\"],[1.0,\"#f0f921\"]]}],\"heatmap\":[{\"type\":\"heatmap\",\"colorbar\":{\"outlinewidth\":0,\"ticks\":\"\"},\"colorscale\":[[0.0,\"#0d0887\"],[0.1111111111111111,\"#46039f\"],[0.2222222222222222,\"#7201a8\"],[0.3333333333333333,\"#9c179e\"],[0.4444444444444444,\"#bd3786\"],[0.5555555555555556,\"#d8576b\"],[0.6666666666666666,\"#ed7953\"],[0.7777777777777778,\"#fb9f3a\"],[0.8888888888888888,\"#fdca26\"],[1.0,\"#f0f921\"]]}],\"heatmapgl\":[{\"type\":\"heatmapgl\",\"colorbar\":{\"outlinewidth\":0,\"ticks\":\"\"},\"colorscale\":[[0.0,\"#0d0887\"],[0.1111111111111111,\"#46039f\"],[0.2222222222222222,\"#7201a8\"],[0.3333333333333333,\"#9c179e\"],[0.4444444444444444,\"#bd3786\"],[0.5555555555555556,\"#d8576b\"],[0.6666666666666666,\"#ed7953\"],[0.7777777777777778,\"#fb9f3a\"],[0.8888888888888888,\"#fdca26\"],[1.0,\"#f0f921\"]]}],\"contourcarpet\":[{\"type\":\"contourcarpet\",\"colorbar\":{\"outlinewidth\":0,\"ticks\":\"\"}}],\"contour\":[{\"type\":\"contour\",\"colorbar\":{\"outlinewidth\":0,\"ticks\":\"\"},\"colorscale\":[[0.0,\"#0d0887\"],[0.1111111111111111,\"#46039f\"],[0.2222222222222222,\"#7201a8\"],[0.3333333333333333,\"#9c179e\"],[0.4444444444444444,\"#bd3786\"],[0.5555555555555556,\"#d8576b\"],[0.6666666666666666,\"#ed7953\"],[0.7777777777777778,\"#fb9f3a\"],[0.8888888888888888,\"#fdca26\"],[1.0,\"#f0f921\"]]}],\"surface\":[{\"type\":\"surface\",\"colorbar\":{\"outlinewidth\":0,\"ticks\":\"\"},\"colorscale\":[[0.0,\"#0d0887\"],[0.1111111111111111,\"#46039f\"],[0.2222222222222222,\"#7201a8\"],[0.3333333333333333,\"#9c179e\"],[0.4444444444444444,\"#bd3786\"],[0.5555555555555556,\"#d8576b\"],[0.6666666666666666,\"#ed7953\"],[0.7777777777777778,\"#fb9f3a\"],[0.8888888888888888,\"#fdca26\"],[1.0,\"#f0f921\"]]}],\"mesh3d\":[{\"type\":\"mesh3d\",\"colorbar\":{\"outlinewidth\":0,\"ticks\":\"\"}}],\"scatter\":[{\"fillpattern\":{\"fillmode\":\"overlay\",\"size\":10,\"solidity\":0.2},\"type\":\"scatter\"}],\"parcoords\":[{\"type\":\"parcoords\",\"line\":{\"colorbar\":{\"outlinewidth\":0,\"ticks\":\"\"}}}],\"scatterpolargl\":[{\"type\":\"scatterpolargl\",\"marker\":{\"colorbar\":{\"outlinewidth\":0,\"ticks\":\"\"}}}],\"bar\":[{\"error_x\":{\"color\":\"#2a3f5f\"},\"error_y\":{\"color\":\"#2a3f5f\"},\"marker\":{\"line\":{\"color\":\"#E5ECF6\",\"width\":0.5},\"pattern\":{\"fillmode\":\"overlay\",\"size\":10,\"solidity\":0.2}},\"type\":\"bar\"}],\"scattergeo\":[{\"type\":\"scattergeo\",\"marker\":{\"colorbar\":{\"outlinewidth\":0,\"ticks\":\"\"}}}],\"scatterpolar\":[{\"type\":\"scatterpolar\",\"marker\":{\"colorbar\":{\"outlinewidth\":0,\"ticks\":\"\"}}}],\"histogram\":[{\"marker\":{\"pattern\":{\"fillmode\":\"overlay\",\"size\":10,\"solidity\":0.2}},\"type\":\"histogram\"}],\"scattergl\":[{\"type\":\"scattergl\",\"marker\":{\"colorbar\":{\"outlinewidth\":0,\"ticks\":\"\"}}}],\"scatter3d\":[{\"type\":\"scatter3d\",\"line\":{\"colorbar\":{\"outlinewidth\":0,\"ticks\":\"\"}},\"marker\":{\"colorbar\":{\"outlinewidth\":0,\"ticks\":\"\"}}}],\"scattermapbox\":[{\"type\":\"scattermapbox\",\"marker\":{\"colorbar\":{\"outlinewidth\":0,\"ticks\":\"\"}}}],\"scatterternary\":[{\"type\":\"scatterternary\",\"marker\":{\"colorbar\":{\"outlinewidth\":0,\"ticks\":\"\"}}}],\"scattercarpet\":[{\"type\":\"scattercarpet\",\"marker\":{\"colorbar\":{\"outlinewidth\":0,\"ticks\":\"\"}}}],\"carpet\":[{\"aaxis\":{\"endlinecolor\":\"#2a3f5f\",\"gridcolor\":\"white\",\"linecolor\":\"white\",\"minorgridcolor\":\"white\",\"startlinecolor\":\"#2a3f5f\"},\"baxis\":{\"endlinecolor\":\"#2a3f5f\",\"gridcolor\":\"white\",\"linecolor\":\"white\",\"minorgridcolor\":\"white\",\"startlinecolor\":\"#2a3f5f\"},\"type\":\"carpet\"}],\"table\":[{\"cells\":{\"fill\":{\"color\":\"#EBF0F8\"},\"line\":{\"color\":\"white\"}},\"header\":{\"fill\":{\"color\":\"#C8D4E3\"},\"line\":{\"color\":\"white\"}},\"type\":\"table\"}],\"barpolar\":[{\"marker\":{\"line\":{\"color\":\"#E5ECF6\",\"width\":0.5},\"pattern\":{\"fillmode\":\"overlay\",\"size\":10,\"solidity\":0.2}},\"type\":\"barpolar\"}],\"pie\":[{\"automargin\":true,\"type\":\"pie\"}]},\"layout\":{\"autotypenumbers\":\"strict\",\"colorway\":[\"#636efa\",\"#EF553B\",\"#00cc96\",\"#ab63fa\",\"#FFA15A\",\"#19d3f3\",\"#FF6692\",\"#B6E880\",\"#FF97FF\",\"#FECB52\"],\"font\":{\"color\":\"#2a3f5f\"},\"hovermode\":\"closest\",\"hoverlabel\":{\"align\":\"left\"},\"paper_bgcolor\":\"white\",\"plot_bgcolor\":\"#E5ECF6\",\"polar\":{\"bgcolor\":\"#E5ECF6\",\"angularaxis\":{\"gridcolor\":\"white\",\"linecolor\":\"white\",\"ticks\":\"\"},\"radialaxis\":{\"gridcolor\":\"white\",\"linecolor\":\"white\",\"ticks\":\"\"}},\"ternary\":{\"bgcolor\":\"#E5ECF6\",\"aaxis\":{\"gridcolor\":\"white\",\"linecolor\":\"white\",\"ticks\":\"\"},\"baxis\":{\"gridcolor\":\"white\",\"linecolor\":\"white\",\"ticks\":\"\"},\"caxis\":{\"gridcolor\":\"white\",\"linecolor\":\"white\",\"ticks\":\"\"}},\"coloraxis\":{\"colorbar\":{\"outlinewidth\":0,\"ticks\":\"\"}},\"colorscale\":{\"sequential\":[[0.0,\"#0d0887\"],[0.1111111111111111,\"#46039f\"],[0.2222222222222222,\"#7201a8\"],[0.3333333333333333,\"#9c179e\"],[0.4444444444444444,\"#bd3786\"],[0.5555555555555556,\"#d8576b\"],[0.6666666666666666,\"#ed7953\"],[0.7777777777777778,\"#fb9f3a\"],[0.8888888888888888,\"#fdca26\"],[1.0,\"#f0f921\"]],\"sequentialminus\":[[0.0,\"#0d0887\"],[0.1111111111111111,\"#46039f\"],[0.2222222222222222,\"#7201a8\"],[0.3333333333333333,\"#9c179e\"],[0.4444444444444444,\"#bd3786\"],[0.5555555555555556,\"#d8576b\"],[0.6666666666666666,\"#ed7953\"],[0.7777777777777778,\"#fb9f3a\"],[0.8888888888888888,\"#fdca26\"],[1.0,\"#f0f921\"]],\"diverging\":[[0,\"#8e0152\"],[0.1,\"#c51b7d\"],[0.2,\"#de77ae\"],[0.3,\"#f1b6da\"],[0.4,\"#fde0ef\"],[0.5,\"#f7f7f7\"],[0.6,\"#e6f5d0\"],[0.7,\"#b8e186\"],[0.8,\"#7fbc41\"],[0.9,\"#4d9221\"],[1,\"#276419\"]]},\"xaxis\":{\"gridcolor\":\"white\",\"linecolor\":\"white\",\"ticks\":\"\",\"title\":{\"standoff\":15},\"zerolinecolor\":\"white\",\"automargin\":true,\"zerolinewidth\":2},\"yaxis\":{\"gridcolor\":\"white\",\"linecolor\":\"white\",\"ticks\":\"\",\"title\":{\"standoff\":15},\"zerolinecolor\":\"white\",\"automargin\":true,\"zerolinewidth\":2},\"scene\":{\"xaxis\":{\"backgroundcolor\":\"#E5ECF6\",\"gridcolor\":\"white\",\"linecolor\":\"white\",\"showbackground\":true,\"ticks\":\"\",\"zerolinecolor\":\"white\",\"gridwidth\":2},\"yaxis\":{\"backgroundcolor\":\"#E5ECF6\",\"gridcolor\":\"white\",\"linecolor\":\"white\",\"showbackground\":true,\"ticks\":\"\",\"zerolinecolor\":\"white\",\"gridwidth\":2},\"zaxis\":{\"backgroundcolor\":\"#E5ECF6\",\"gridcolor\":\"white\",\"linecolor\":\"white\",\"showbackground\":true,\"ticks\":\"\",\"zerolinecolor\":\"white\",\"gridwidth\":2}},\"shapedefaults\":{\"line\":{\"color\":\"#2a3f5f\"}},\"annotationdefaults\":{\"arrowcolor\":\"#2a3f5f\",\"arrowhead\":0,\"arrowwidth\":1},\"geo\":{\"bgcolor\":\"white\",\"landcolor\":\"#E5ECF6\",\"subunitcolor\":\"white\",\"showland\":true,\"showlakes\":true,\"lakecolor\":\"white\"},\"title\":{\"x\":0.05},\"mapbox\":{\"style\":\"light\"}}},\"scene\":{\"domain\":{\"x\":[0.0,1.0],\"y\":[0.0,1.0]},\"xaxis\":{\"title\":{\"text\":\"Sepal Length (cm)\"}},\"yaxis\":{\"title\":{\"text\":\"Sepal Width (cm)\"}},\"zaxis\":{\"title\":{\"text\":\"Petal Length (cm)\"}}},\"legend\":{\"title\":{\"text\":\"Species\"},\"tracegroupgap\":0,\"yanchor\":\"top\"},\"title\":{\"text\":\"Iris Morphology: 3D Feature Space by Species\"},\"height\":600,\"width\":800},                        {\"responsive\": true}                    ).then(function(){\n",
       "                            \n",
       "var gd = document.getElementById('3a8bc058-4c07-409e-8045-e59fcfa50141');\n",
       "var x = new MutationObserver(function (mutations, observer) {{\n",
       "        var display = window.getComputedStyle(gd).display;\n",
       "        if (!display || display === 'none') {{\n",
       "            console.log([gd, 'removed!']);\n",
       "            Plotly.purge(gd);\n",
       "            observer.disconnect();\n",
       "        }}\n",
       "}});\n",
       "\n",
       "// Listen for the removal of the full notebook cells\n",
       "var notebookContainer = gd.closest('#notebook-container');\n",
       "if (notebookContainer) {{\n",
       "    x.observe(notebookContainer, {childList: true});\n",
       "}}\n",
       "\n",
       "// Listen for the clearing of the current output cell\n",
       "var outputEl = gd.closest('.output');\n",
       "if (outputEl) {{\n",
       "    x.observe(outputEl, {childList: true});\n",
       "}}\n",
       "\n",
       "                        })                };                });            </script>        </div>"
      ]
     },
     "metadata": {},
     "output_type": "display_data"
    },
    {
     "name": "stdout",
     "output_type": "stream",
     "text": [
      "\n",
      "🔍 Pro Tip: Rotate to view the petal_length (Z-axis) separation - this is where species differentiate most clearly\n"
     ]
    }
   ],
   "source": [
    "\n",
    "\n",
    "print(\"\\n🛠️ Building 3D visualization... (this may take a moment for large datasets)\")\n",
    "\n",
    "# -----------------------------------------------------------------------------\n",
    "# Core Visualization Configuration\n",
    "# Note: Using plotly.express for its clean defaults and interactivity\n",
    "# -----------------------------------------------------------------------------\n",
    "fig = px.scatter_3d(\n",
    "    df,\n",
    "    x=\"sepal_length\",  # Primary horizontal dimension\n",
    "    y=\"sepal_width\",   # Secondary horizontal dimension  \n",
    "    z=\"petal_length\",  # Vertical dimension (most discriminative per EDA)\n",
    "    color=\"species\",   # Color-coding provides immediate species identification\n",
    "    title=\"Iris Morphology: 3D Feature Space by Species\",\n",
    "    labels={\n",
    "        \"sepal_length\": \"Sepal Length (cm)\",  # Explicit units for reproducibility\n",
    "        \"sepal_width\": \"Sepal Width (cm)\",\n",
    "        \"petal_length\": \"Petal Length (cm)\",\n",
    "        \"species\": \"Species\"\n",
    "    },\n",
    "    width=800,   # Optimal for notebook embedding\n",
    "    height=600   # Maintains aspect ratio\n",
    ")\n",
    "\n",
    "print(\"✅ Base plot configured | ℹ️ Marker size=5, opacity=0.8 for cluster visibility\")\n",
    "\n",
    "# -----------------------------------------------------------------------------\n",
    "# Professional Styling Adjustments\n",
    "# These preserve the raw data while improving readability\n",
    "# -----------------------------------------------------------------------------\n",
    "fig.update_traces(\n",
    "    marker=dict(\n",
    "        size=5,        # Balance between visibility and overplotting\n",
    "        opacity=0.8,   # Allows seeing density through marker overlap\n",
    "        line=None      # Clean look without border (comment out if edge definition needed)\n",
    "    )\n",
    ")\n",
    "\n",
    "fig.update_layout(\n",
    "    scene=dict(\n",
    "        xaxis=dict(title=\"Sepal Length (cm)\"),  # Consistent axis labeling\n",
    "        yaxis=dict(title=\"Sepal Width (cm)\"), \n",
    "        zaxis=dict(title=\"Petal Length (cm)\")   # Z-axis critical for species separation\n",
    "    ),\n",
    "    legend=dict(\n",
    "        title=\"Species\",  # Clear legend title\n",
    "        yanchor=\"top\"     # Standard positioning\n",
    "    )\n",
    ")\n",
    "\n",
    "print(\"🎨 Styling applied | ✨ Ready for interactive exploration\")\n",
    "\n",
    "# -----------------------------------------------------------------------------\n",
    "# Display with Usage Guidance\n",
    "# -----------------------------------------------------------------------------\n",
    "print(\"\\n🖱️ Interactive Controls:\")\n",
    "print(\"- Rotate: Click + drag\")\n",
    "print(\"- Zoom: Scroll wheel\")\n",
    "print(\"- Reset view: Double click\")\n",
    "print(\"- Hover: Point info (useful for outlier inspection)\")\n",
    "\n",
    "fig.show()\n",
    "\n",
    "print(\"\\n🔍 Pro Tip: Rotate to view the petal_length (Z-axis) separation - this is where species differentiate most clearly\")"
   ]
  },
  {
   "cell_type": "markdown",
   "id": "81a2aa6c-4d94-4cbb-bd32-3512623967fb",
   "metadata": {},
   "source": [
    "# Iris Dataset Analysis: Model Evaluation & Recommendations\n",
    "\n",
    "## 1. Dataset Selection and Characteristics\n",
    "\n",
    "### Choice of Iris\n",
    "- Classic \"toy\" dataset in ML: **150 samples** (50 per class: Setosa, Versicolor, Virginica)\n",
    "- **4 numeric features**: sepal length/width, petal length/width\n",
    "\n",
    "### Strengths\n",
    "✅ Well-studied, easy to visualize  \n",
    "✅ Relatively \"linearly separable\" (especially Setosa)  \n",
    "✅ Ideal for demonstrating basic classification  \n",
    "\n",
    "### Limitations\n",
    "⚠️ Very small (\"low-data\") and perfectly balanced  \n",
    "⚠️ Petal features alone separate Setosa near-perfectly → **93-97% accuracy expected**  \n",
    "\n",
    "### Feature Discriminability\n",
    "- **Petal-length/width**: Highly correlated with species (Setosa: small petals; others: mid/high ranges)  \n",
    "- **Sepal dimensions**: Less discriminative (especially Versicolor vs. Virginica)  \n",
    "- *Implication*: Models using petal measurements will perform exceptionally well.  \n",
    "\n",
    "---\n",
    "\n",
    "## 2. Preprocessing Steps\n",
    "\n",
    "### Label Encoding\n",
    "- Converted categorical \"species\" to integers (0, 1, 2) via `LabelEncoder`  \n",
    "- *Note*: Tree-based models don’t require encoding, but scikit-learn classifiers do.  \n",
    "\n",
    "### Train/Test Split (80/20)\n",
    "- `train_test_split(..., stratify=y, test_size=0.2, random_state=42)`  \n",
    "- **Pros**:  \n",
    "  - Stratification preserves class proportions (10 test samples per class)  \n",
    "  - Reproducible with `random_state`  \n",
    "- **Concern**:  \n",
    "  - Only **120 training samples** (40/class) → Small fluctuations in splits may affect metrics  \n",
    "\n",
    "### Feature Scaling (`StandardScaler`)\n",
    "- Critical for **KNN** (Euclidean distance) and **Logistic Regression** (gradient descent)  \n",
    "- Fit *only on training data* to avoid leakage  \n",
    "- *Optional checks*:  \n",
    "  - Visualize scaled features  \n",
    "  - Compare with `MinMaxScaler` for small datasets  \n",
    "\n",
    "---\n",
    "\n",
    "## 3. Critical Reflections & Potential Enhancements\n",
    "\n",
    "### Reliance on Single Train/Test Split\n",
    "- **Issue**: Only 30 test points → Metrics may vary significantly  \n",
    "- **Recommendation**:  \n",
    "  - Use **k-fold CV** (e.g., stratified 5-fold) for stable accuracy estimates  \n",
    "  - Try `RepeatedStratifiedShuffleSplit` to assess fluctuation  \n",
    "\n",
    "### Hyperparameter Tuning\n",
    "| Model               | Parameters to Tune                          |\n",
    "|---------------------|--------------------------------------------|\n",
    "| **Logistic Regression** | `C`=[0.01, 100], penalty (`L1`/`L2`)       |\n",
    "| **KNN**             | `k`=1–15, `weights`=[\"uniform\", \"distance\"] |\n",
    "\n",
    "### Feature Engineering\n",
    "- **Selection**: Test models with *petal-only* vs. *all features*  \n",
    "- **Transformations**: Add polynomial terms (e.g., `petal_length * petal_width`)  \n",
    "- **Dimensionality Reduction**: PCA (though likely unnecessary for 4 features)  \n",
    "\n",
    "### Additional Models to Try\n",
    "- **Decision Tree/Random Forest**: Near-perfect accuracy (axis-aligned splits)  \n",
    "- **SVM (RBF kernel)**: 97–100% accuracy (curved boundaries)  \n",
    "- **Voting Classifier**: Combine Logistic + KNN + Decision Tree  \n",
    "\n",
    "---\n",
    "\n",
    "## 4. Metrics Beyond Accuracy\n",
    "- **Precision/Recall (per class)**: Already reported (excellent practice)  \n",
    "- **ROC/AUC**: Optional for multiclass (one-vs-rest)  \n",
    "- **Calibration**: Check probability reliability (especially for KNN)  \n",
    "\n",
    "---\n",
    "\n",
    "## 5. Model Interpretability & Deployment\n",
    "| Factor               | Logistic Regression      | KNN                     |\n",
    "|----------------------|--------------------------|-------------------------|\n",
    "| **Interpretability** | High (coefficients)      | Low (black-box)         |\n",
    "| **Prediction Cost**  | O(1) per sample         | O(n_train) per sample   |\n",
    "| **Robustness**       | Handles noise better     | Sensitive to mislabels  |\n",
    "\n",
    "---\n",
    "\n",
    "## 6. Final Takeaways\n",
    "- **Both models achieved 93% test accuracy** (expected for Iris).  \n",
    "- **Petal features dominate performance** → Sepal dimensions add minor value.  \n",
    "- **Misclassifications**:  \n",
    "  - Logistic: 1 Versicolor, 1 Virginica  \n",
    "  - KNN: 2 Virginica  \n",
    "\n",
    "### Recommended Next Steps\n",
    "1. **Cross-validation** + hyperparameter search (`C`, `k`).  \n",
    "2. **Feature subset testing** (petal-only vs. full features).  \n",
    "3. **Try SVM/Decision Tree** to assess non-linear boundaries.  \n",
    "4. **Visualize misclassified points** to diagnose errors.  \n",
    "\n",
    "> **Caution**: Iris is \"clean\" and small—high accuracy here doesn’t guarantee real-world performance.  "
   ]
  },
  {
   "cell_type": "code",
   "execution_count": 24,
   "id": "6dfad51e-f420-4c2c-9f81-f1d23f7be877",
   "metadata": {},
   "outputs": [
    {
     "name": "stdout",
     "output_type": "stream",
     "text": [
      "✅ Label encoding complete:\n",
      "   setosa → 0 | versicolor → 1 | virginica → 2\n",
      "\n",
      "📊 Features shape: (150, 4) | Target shape: (150,)\n",
      "\n",
      "🔀 Train-Test Split:\n",
      "Train samples: 120 (80%)\n",
      "Test samples:  30 (20%)\n",
      "\n",
      "⚖️ Features scaled (mean=-0.0, std=1.0 on training set)\n",
      "\n",
      "============================================================\n",
      "🚀 Training Logistic Regression Model\n",
      "============================================================\n",
      "\n",
      "📈 Logistic Regression Performance:\n",
      "----------------------------------------\n",
      "Accuracy: 0.9333\n",
      "\n",
      "Classification Report:\n",
      "              precision    recall  f1-score   support\n",
      "\n",
      "      setosa       1.00      1.00      1.00        10\n",
      "  versicolor       0.90      0.90      0.90        10\n",
      "   virginica       0.90      0.90      0.90        10\n",
      "\n",
      "    accuracy                           0.93        30\n",
      "   macro avg       0.93      0.93      0.93        30\n",
      "weighted avg       0.93      0.93      0.93        30\n",
      "\n",
      "Confusion Matrix:\n",
      "[[10  0  0]\n",
      " [ 0  9  1]\n",
      " [ 0  1  9]]\n",
      "========================================\n",
      "\n",
      "\n",
      "============================================================\n",
      "🔍 Training K-Nearest Neighbors Model (k=5)\n",
      "============================================================\n",
      "\n",
      "📈 K-Nearest Neighbors Performance:\n",
      "----------------------------------------\n",
      "Accuracy: 0.9333\n",
      "\n",
      "Classification Report:\n",
      "              precision    recall  f1-score   support\n",
      "\n",
      "      setosa       1.00      1.00      1.00        10\n",
      "  versicolor       0.83      1.00      0.91        10\n",
      "   virginica       1.00      0.80      0.89        10\n",
      "\n",
      "    accuracy                           0.93        30\n",
      "   macro avg       0.94      0.93      0.93        30\n",
      "weighted avg       0.94      0.93      0.93        30\n",
      "\n",
      "Confusion Matrix:\n",
      "[[10  0  0]\n",
      " [ 0 10  0]\n",
      " [ 0  2  8]]\n",
      "========================================\n",
      "\n"
     ]
    }
   ],
   "source": [
    "# =============================================================================\n",
    "# DATA PREPROCESSING PIPELINE\n",
    "# =============================================================================\n",
    "\n",
    "# 2. Label Encoding - Convert categorical species to numerical values\n",
    "# Note: Using LabelEncoder instead of get_dummies to preserve ordinal relationships\n",
    "#       between species (useful for some algorithms)\n",
    "le = LabelEncoder()\n",
    "df[\"species_encoded\"] = le.fit_transform(df[\"species\"])  \n",
    "print(\"✅ Label encoding complete:\")\n",
    "print(f\"   {le.classes_[0]} → 0 | {le.classes_[1]} → 1 | {le.classes_[2]} → 2\\n\")\n",
    "\n",
    "# 3. Feature-Target Split\n",
    "# Using all 4 numerical features as per original analysis\n",
    "X = df[[\"sepal_length\", \"sepal_width\", \"petal_length\", \"petal_width\"]].values\n",
    "y = df[\"species_encoded\"].values\n",
    "print(\"📊 Features shape:\", X.shape, \"| Target shape:\", y.shape)\n",
    "\n",
    "# 4. Train-Test Split with Stratification\n",
    "# Critical for maintaining class balance in small datasets\n",
    "X_train, X_test, y_train, y_test = train_test_split(\n",
    "    X, y, \n",
    "    test_size=0.20, \n",
    "    random_state=42,  # Fixed seed for reproducibility\n",
    "    stratify=y        # Preserve class distribution\n",
    ")\n",
    "print(\"\\n🔀 Train-Test Split:\")\n",
    "print(f\"Train samples: {X_train.shape[0]} ({X_train.shape[0]/len(X)*100:.0f}%)\")\n",
    "print(f\"Test samples:  {X_test.shape[0]} ({X_test.shape[0]/len(X)*100:.0f}%)\")\n",
    "\n",
    "# 5. Feature Scaling - Essential for distance-based algorithms\n",
    "scaler = StandardScaler()\n",
    "X_train_scaled = scaler.fit_transform(X_train)  # Fit only on training data\n",
    "X_test_scaled = scaler.transform(X_test)       # Transform test data\n",
    "print(\"\\n⚖️ Features scaled (mean={:.1f}, std={:.1f} on training set)\".format(\n",
    "    X_train_scaled.mean(), X_train_scaled.std()))\n",
    "\n",
    "# =============================================================================\n",
    "# MODEL TRAINING & EVALUATION\n",
    "# =============================================================================\n",
    "\n",
    "def evaluate_model(model, X_test, y_test, model_name):\n",
    "    \"\"\"Helper function for consistent model evaluation\"\"\"\n",
    "    y_pred = model.predict(X_test)\n",
    "    \n",
    "    print(f\"\\n📈 {model_name} Performance:\")\n",
    "    print(\"-\" * 40)\n",
    "    print(f\"Accuracy: {accuracy_score(y_test, y_pred):.4f}\")\n",
    "    \n",
    "    print(\"\\nClassification Report:\")\n",
    "    print(classification_report(y_test, y_pred, target_names=le.classes_))\n",
    "    \n",
    "    print(\"Confusion Matrix:\")\n",
    "    print(confusion_matrix(y_test, y_pred))\n",
    "    print(\"=\" * 40 + \"\\n\")\n",
    "\n",
    "# ========================================================\n",
    "# 6. Logistic Regression Model\n",
    "# ========================================================\n",
    "print(\"\\n\" + \"=\"*60)\n",
    "print(\"🚀 Training Logistic Regression Model\")\n",
    "print(\"=\"*60)\n",
    "\n",
    "log_reg = LogisticRegression(\n",
    "    solver=\"lbfgs\",       # Good default for small datasets\n",
    "    multi_class=\"auto\",   # Automatically handles multiclass\n",
    "    max_iter=200,        # Sufficient for convergence\n",
    "    random_state=42       # For reproducibility\n",
    ")\n",
    "log_reg.fit(X_train_scaled, y_train)\n",
    "evaluate_model(log_reg, X_test_scaled, y_test, \"Logistic Regression\")\n",
    "\n",
    "# ========================================================\n",
    "# 7. K-Nearest Neighbors Model\n",
    "# ========================================================\n",
    "print(\"\\n\" + \"=\"*60)\n",
    "print(\"🔍 Training K-Nearest Neighbors Model (k=5)\")\n",
    "print(\"=\"*60)\n",
    "\n",
    "knn = KNeighborsClassifier(\n",
    "    n_neighbors=5,       # Default starting value\n",
    "    weights=\"uniform\",   # All neighbors contribute equally\n",
    "    metric=\"euclidean\"   # Standard distance metric\n",
    ")\n",
    "knn.fit(X_train_scaled, y_train)\n",
    "evaluate_model(knn, X_test_scaled, y_test, \"K-Nearest Neighbors\")\n"
   ]
  },
  {
   "cell_type": "code",
   "execution_count": 28,
   "id": "0799703e-451f-44c0-b6ab-7fccaefd23d8",
   "metadata": {},
   "outputs": [
    {
     "name": "stdout",
     "output_type": "stream",
     "text": [
      "✅ Target encoded: [('setosa', 0), ('versicolor', 1), ('virginica', 2)]\n",
      "\n",
      "📊 Dataset split: 120 train, 30 test samples\n",
      "\n",
      "🛠️ Building preprocessing and modeling pipelines...\n",
      "\n",
      "============================================================\n",
      "🧪 BASELINE MODEL PERFORMANCE\n",
      "============================================================\n",
      "\n",
      "🔵 Logistic Regression (Default Parameters)\n",
      "\n",
      "📊 Logistic Regression Performance:\n",
      "--------------------------------------------------\n",
      "Accuracy: 0.9333\n",
      "\n",
      "Classification Report:\n",
      "              precision    recall  f1-score   support\n",
      "\n",
      "      setosa       1.00      1.00      1.00        10\n",
      "  versicolor       0.90      0.90      0.90        10\n",
      "   virginica       0.90      0.90      0.90        10\n",
      "\n",
      "    accuracy                           0.93        30\n",
      "   macro avg       0.93      0.93      0.93        30\n",
      "weighted avg       0.93      0.93      0.93        30\n",
      "\n",
      "Confusion Matrix:\n",
      "[[10  0  0]\n",
      " [ 0  9  1]\n",
      " [ 0  1  9]]\n",
      "==================================================\n",
      "\n",
      "🟢 KNN Baseline (k=5, uniform weights)\n",
      "\n",
      "📊 KNN Baseline Performance:\n",
      "--------------------------------------------------\n",
      "Accuracy: 0.9333\n",
      "\n",
      "Classification Report:\n",
      "              precision    recall  f1-score   support\n",
      "\n",
      "      setosa       1.00      1.00      1.00        10\n",
      "  versicolor       0.83      1.00      0.91        10\n",
      "   virginica       1.00      0.80      0.89        10\n",
      "\n",
      "    accuracy                           0.93        30\n",
      "   macro avg       0.94      0.93      0.93        30\n",
      "weighted avg       0.94      0.93      0.93        30\n",
      "\n",
      "Confusion Matrix:\n",
      "[[10  0  0]\n",
      " [ 0 10  0]\n",
      " [ 0  2  8]]\n",
      "==================================================\n",
      "\n",
      "============================================================\n",
      "🎛️ KNN HYPERPARAMETER TUNING\n",
      "============================================================\n",
      "\n",
      "⏳ Running grid search (this may take a moment)...\n",
      "Fitting 5 folds for each of 24 candidates, totalling 120 fits\n",
      "\n",
      "✅ Tuning Complete!\n",
      "Best Parameters: {'knn__metric': 'euclidean', 'knn__n_neighbors': 5, 'knn__weights': 'uniform'}\n",
      "Best CV Accuracy: 0.9667\n",
      "\n",
      "============================================================\n",
      "🏆 FINAL MODEL COMPARISON\n",
      "============================================================\n",
      "\n",
      "🟢 Tuned KNN (Test Set Performance)\n",
      "\n",
      "📊 Optimized KNN Performance:\n",
      "--------------------------------------------------\n",
      "Accuracy: 0.9333\n",
      "\n",
      "Classification Report:\n",
      "              precision    recall  f1-score   support\n",
      "\n",
      "      setosa       1.00      1.00      1.00        10\n",
      "  versicolor       0.83      1.00      0.91        10\n",
      "   virginica       1.00      0.80      0.89        10\n",
      "\n",
      "    accuracy                           0.93        30\n",
      "   macro avg       0.94      0.93      0.93        30\n",
      "weighted avg       0.94      0.93      0.93        30\n",
      "\n",
      "Confusion Matrix:\n",
      "[[10  0  0]\n",
      " [ 0 10  0]\n",
      " [ 0  2  8]]\n",
      "==================================================\n",
      "\n",
      "📈 Performance Improvement Summary:\n",
      "Baseline KNN Accuracy: 0.9333\n",
      "Tuned KNN Accuracy:    0.9333\n",
      "Absolute Improvement:  +0.0000\n",
      "Relative Improvement:  +0.00%\n"
     ]
    }
   ],
   "source": [
    "\n",
    "\n",
    "# Encode target variable - preserves class relationships\n",
    "le = LabelEncoder()\n",
    "df[\"species_encoded\"] = le.fit_transform(df[\"species\"])\n",
    "print(f\"✅ Target encoded: {list(zip(le.classes_, le.transform(le.classes_)))}\")\n",
    "\n",
    "# Feature-target split using all 4 morphological measurements\n",
    "X = df[[\"sepal_length\", \"sepal_width\", \"petal_length\", \"petal_width\"]].values\n",
    "y = df[\"species_encoded\"].values\n",
    "\n",
    "# Stratified train-test split (80-20) - critical for small datasets\n",
    "X_train, X_test, y_train, y_test = train_test_split(\n",
    "    X, y,\n",
    "    test_size=0.20,\n",
    "    random_state=42,  # Reproducibility\n",
    "    stratify=y        # Maintain class balance\n",
    ")\n",
    "print(f\"\\n📊 Dataset split: {X_train.shape[0]} train, {X_test.shape[0]} test samples\")\n",
    "\n",
    "# =============================================================================\n",
    "# 2. MODEL PIPELINES CONFIGURATION\n",
    "# =============================================================================\n",
    "\n",
    "print(\"\\n🛠️ Building preprocessing and modeling pipelines...\")\n",
    "\n",
    "# Logistic Regression Pipeline\n",
    "pipe_logistic = Pipeline([\n",
    "    (\"scaler\", StandardScaler()),  # Essential for linear models\n",
    "    (\"logreg\", LogisticRegression(\n",
    "        solver=\"lbfgs\",            # Good for small datasets\n",
    "        multi_class=\"auto\",        # Automatically handles multiclass\n",
    "        max_iter=200,              # Sufficient for convergence\n",
    "        random_state=42\n",
    "    ))\n",
    "])\n",
    "\n",
    "# KNN Pipeline - Scaling critical for distance-based methods\n",
    "pipe_knn = Pipeline([\n",
    "    (\"scaler\", StandardScaler()),\n",
    "    (\"knn\", KNeighborsClassifier())\n",
    "])\n",
    "\n",
    "# =============================================================================\n",
    "# 3. BASELINE MODEL EVALUATION\n",
    "# =============================================================================\n",
    "\n",
    "def evaluate_model(model, X, y, model_name):\n",
    "    \"\"\"Standardized model evaluation workflow\"\"\"\n",
    "    y_pred = model.predict(X)\n",
    "    \n",
    "    print(f\"\\n📊 {model_name} Performance:\")\n",
    "    print(\"-\" * 50)\n",
    "    print(f\"Accuracy: {accuracy_score(y, y_pred):.4f}\")\n",
    "    print(\"\\nClassification Report:\")\n",
    "    print(classification_report(y, y_pred, target_names=le.classes_))\n",
    "    print(\"Confusion Matrix:\")\n",
    "    print(confusion_matrix(y, y_pred))\n",
    "    print(\"=\" * 50)\n",
    "\n",
    "print(\"\\n\" + \"=\"*60)\n",
    "print(\"🧪 BASELINE MODEL PERFORMANCE\")\n",
    "print(\"=\"*60)\n",
    "\n",
    "# Train and evaluate Logistic Regression\n",
    "pipe_logistic.fit(X_train, y_train)\n",
    "print(\"\\n🔵 Logistic Regression (Default Parameters)\")\n",
    "evaluate_model(pipe_logistic, X_test, y_test, \"Logistic Regression\")\n",
    "\n",
    "# Train and evaluate KNN baseline (k=5)\n",
    "pipe_knn.set_params(knn__n_neighbors=5, knn__weights=\"uniform\")\n",
    "pipe_knn.fit(X_train, y_train)\n",
    "print(\"\\n🟢 KNN Baseline (k=5, uniform weights)\")\n",
    "evaluate_model(pipe_knn, X_test, y_test, \"KNN Baseline\")\n",
    "\n",
    "# =============================================================================\n",
    "# 4. HYPERPARAMETER TUNING WITH GRIDSEARCHCV\n",
    "# =============================================================================\n",
    "\n",
    "print(\"\\n\" + \"=\"*60)\n",
    "print(\"🎛️ KNN HYPERPARAMETER TUNING\")\n",
    "print(\"=\"*60)\n",
    "\n",
    "# Define search space for KNN\n",
    "param_grid_knn = {\n",
    "    \"knn__n_neighbors\": [1, 3, 5, 7, 9, 11],  # Test odd k-values\n",
    "    \"knn__weights\": [\"uniform\", \"distance\"],   # Weighting schemes\n",
    "    \"knn__metric\": [\"euclidean\", \"manhattan\"]  # Distance metrics\n",
    "}\n",
    "\n",
    "# Configure GridSearchCV with 5-fold stratified CV\n",
    "grid_knn = GridSearchCV(\n",
    "    estimator=pipe_knn,\n",
    "    param_grid=param_grid_knn,\n",
    "    scoring=\"accuracy\",\n",
    "    cv=5,                      # Stratified by default\n",
    "    n_jobs=-1,                 # Parallelize\n",
    "    verbose=1,\n",
    "    return_train_score=True\n",
    ")\n",
    "\n",
    "print(\"\\n⏳ Running grid search (this may take a moment)...\")\n",
    "grid_knn.fit(X_train, y_train)\n",
    "\n",
    "# Display tuning results\n",
    "print(\"\\n✅ Tuning Complete!\")\n",
    "print(f\"Best Parameters: {grid_knn.best_params_}\")\n",
    "print(f\"Best CV Accuracy: {grid_knn.best_score_:.4f}\")\n",
    "\n",
    "# =============================================================================\n",
    "# 5. FINAL MODEL EVALUATION\n",
    "# =============================================================================\n",
    "\n",
    "print(\"\\n\" + \"=\"*60)\n",
    "print(\"🏆 FINAL MODEL COMPARISON\")\n",
    "print(\"=\"*60)\n",
    "\n",
    "# Evaluate tuned model on test set\n",
    "best_knn = grid_knn.best_estimator_\n",
    "print(\"\\n🟢 Tuned KNN (Test Set Performance)\")\n",
    "evaluate_model(best_knn, X_test, y_test, \"Optimized KNN\")\n",
    "\n",
    "# Compare baseline vs optimized performance\n",
    "acc_baseline = accuracy_score(y_test, pipe_knn.predict(X_test))\n",
    "acc_tuned = accuracy_score(y_test, best_knn.predict(X_test))\n",
    "\n",
    "print(\"\\n📈 Performance Improvement Summary:\")\n",
    "print(f\"Baseline KNN Accuracy: {acc_baseline:.4f}\")\n",
    "print(f\"Tuned KNN Accuracy:    {acc_tuned:.4f}\")\n",
    "print(f\"Absolute Improvement:  {acc_tuned - acc_baseline:+.4f}\")\n",
    "print(f\"Relative Improvement:  {(acc_tuned - acc_baseline)/acc_baseline:+.2%}\")\n",
    "\n"
   ]
  },
  {
   "cell_type": "code",
   "execution_count": null,
   "id": "f21821da-00d7-488e-8fb0-4c34fe8d684e",
   "metadata": {},
   "outputs": [],
   "source": []
  }
 ],
 "metadata": {
  "kernelspec": {
   "display_name": "Python 3 (ipykernel)",
   "language": "python",
   "name": "python3"
  },
  "language_info": {
   "codemirror_mode": {
    "name": "ipython",
    "version": 3
   },
   "file_extension": ".py",
   "mimetype": "text/x-python",
   "name": "python",
   "nbconvert_exporter": "python",
   "pygments_lexer": "ipython3",
   "version": "3.12.4"
  }
 },
 "nbformat": 4,
 "nbformat_minor": 5
}
